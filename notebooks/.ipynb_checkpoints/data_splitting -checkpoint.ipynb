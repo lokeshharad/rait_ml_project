{
 "cells": [
  {
   "cell_type": "code",
   "execution_count": null,
   "id": "8ec49bb2",
   "metadata": {},
   "outputs": [],
   "source": []
  },
  {
   "cell_type": "code",
   "execution_count": null,
   "id": "cbb6d1bd",
   "metadata": {},
   "outputs": [],
   "source": []
  },
  {
   "cell_type": "code",
   "execution_count": null,
   "id": "0f598cf1",
   "metadata": {},
   "outputs": [],
   "source": []
  },
  {
   "cell_type": "code",
   "execution_count": 1,
   "id": "f018b648",
   "metadata": {},
   "outputs": [],
   "source": [
    "data_path = r\"C:\\lokesh\\rait_seminar\\Data\\Data\\census_income.csv\""
   ]
  },
  {
   "cell_type": "code",
   "execution_count": null,
   "id": "41c95441",
   "metadata": {},
   "outputs": [],
   "source": []
  }
 ],
 "metadata": {
  "kernelspec": {
   "display_name": "Python (census)",
   "language": "python",
   "name": "census"
  },
  "language_info": {
   "codemirror_mode": {
    "name": "ipython",
    "version": 3
   },
   "file_extension": ".py",
   "mimetype": "text/x-python",
   "name": "python",
   "nbconvert_exporter": "python",
   "pygments_lexer": "ipython3",
   "version": "3.6.8"
  }
 },
 "nbformat": 4,
 "nbformat_minor": 5
}
